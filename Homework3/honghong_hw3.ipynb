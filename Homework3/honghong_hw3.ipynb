{
 "cells": [
  {
   "cell_type": "code",
   "execution_count": 91,
   "id": "89630a16",
   "metadata": {},
   "outputs": [],
   "source": [
    "# Load all necessary packages\n",
    "import sys\n",
    "sys.path.insert(1, \"../\")  \n",
    "\n",
    "import numpy as np\n",
    "np.random.seed(0)\n",
    "\n",
    "from aif360.datasets import CompasDataset\n",
    "from aif360.metrics import BinaryLabelDatasetMetric\n",
    "from aif360.algorithms.preprocessing import Reweighing\n",
    "from aif360.algorithms.preprocessing import DisparateImpactRemover\n",
    "\n",
    "from IPython.display import Markdown, display\n",
    "\n",
    "# Fairness metrics\n",
    "from aif360.metrics import BinaryLabelDatasetMetric\n",
    "from aif360.metrics import ClassificationMetric\n",
    "\n",
    "# Explainers\n",
    "from aif360.explainers import MetricTextExplainer\n",
    "\n",
    "# Scalers\n",
    "from sklearn.preprocessing import StandardScaler\n",
    "\n",
    "# Classifiers\n",
    "from sklearn.ensemble import RandomForestClassifier\n",
    "from sklearn.linear_model import LogisticRegression\n",
    "from sklearn.pipeline import make_pipeline"
   ]
  },
  {
   "cell_type": "markdown",
   "id": "7300b0c4",
   "metadata": {},
   "source": [
    "# Execrise 5"
   ]
  },
  {
   "cell_type": "code",
   "execution_count": 32,
   "id": "05c54a97",
   "metadata": {},
   "outputs": [
    {
     "name": "stderr",
     "output_type": "stream",
     "text": [
      "WARNING:root:Missing Data: 5 rows removed from CompasDataset.\n"
     ]
    }
   ],
   "source": [
    "# TODO #1\n",
    "# I pick the sex attribute as the protected attribute\n",
    "# so accrodingly I drop the feature about \"race\" to avoid bias\n",
    "cd = CompasDataset(protected_attribute_names=['sex'],privileged_classes=[['Female']],\n",
    "                   features_to_keep=['sex','age', 'age_cat', 'juv_fel_count', 'juv_misd_count', \n",
    "                                     'juv_other_count', 'priors_count', 'c_charge_degree', 'c_charge_desc', \n",
    "                                     'two_year_recid'],metadata={'label_maps': [{1.0: 'Did recid.', 0.0: 'No recid.'}],\n",
    "                                                                 'protected_attribute_maps': [{0.0: 'Male', 1.0: 'Female'}]})"
   ]
  },
  {
   "cell_type": "code",
   "execution_count": 38,
   "id": "aeac8f93",
   "metadata": {},
   "outputs": [
    {
     "data": {
      "text/markdown": [
       "#### Original training dataset"
      ],
      "text/plain": [
       "<IPython.core.display.Markdown object>"
      ]
     },
     "metadata": {},
     "output_type": "display_data"
    },
    {
     "name": "stdout",
     "output_type": "stream",
     "text": [
      "Diparate impact between unprivileged and privileged groups = 0.802925\n"
     ]
    }
   ],
   "source": [
    "# I set female as the priviledged groups and male as the unprivledged group\n",
    "privileged_groups = [{'sex': 1}] # female\n",
    "unprivileged_groups = [{'sex': 0}] # male\n",
    "metric_orig_train = BinaryLabelDatasetMetric(cd, \n",
    "                                             unprivileged_groups=unprivileged_groups,\n",
    "                                             privileged_groups=privileged_groups)\n",
    "# use the diapate impact metric to calculate\n",
    "display(Markdown(\"#### Original training dataset\"))\n",
    "print(\"Diparate impact between unprivileged and privileged groups = %f\" % metric_orig_train.disparate_impact())"
   ]
  },
  {
   "cell_type": "markdown",
   "id": "0db64682",
   "metadata": {},
   "source": [
    "# Exercise 6"
   ]
  },
  {
   "cell_type": "code",
   "execution_count": 105,
   "id": "464a9757",
   "metadata": {},
   "outputs": [],
   "source": [
    "# I split the cd dataframe I have created above into train set and test set\n",
    "(dataset_orig_panel19_train,\n",
    " dataset_orig_panel19_val,\n",
    " dataset_orig_panel19_test) = cd.split([0.5, 0.8], shuffle=True)\n",
    "\n",
    "sens_ind = 0\n",
    "sens_attr = dataset_orig_panel19_train.protected_attribute_names[sens_ind]\n",
    "\n",
    "# accordingkly set priviledged and unprivileged groups\n",
    "unprivileged_groups = [{sens_attr: v} for v in\n",
    "                       dataset_orig_panel19_train.unprivileged_protected_attributes[sens_ind]]\n",
    "privileged_groups = [{sens_attr: v} for v in\n",
    "                     dataset_orig_panel19_train.privileged_protected_attributes[sens_ind]]\n"
   ]
  },
  {
   "cell_type": "code",
   "execution_count": 106,
   "id": "95213a48",
   "metadata": {},
   "outputs": [
    {
     "data": {
      "text/markdown": [
       "#### Training Dataset shape"
      ],
      "text/plain": [
       "<IPython.core.display.Markdown object>"
      ]
     },
     "metadata": {},
     "output_type": "display_data"
    },
    {
     "name": "stdout",
     "output_type": "stream",
     "text": [
      "(3083, 400)\n"
     ]
    },
    {
     "data": {
      "text/markdown": [
       "#### Validation Dataset shape"
      ],
      "text/plain": [
       "<IPython.core.display.Markdown object>"
      ]
     },
     "metadata": {},
     "output_type": "display_data"
    },
    {
     "name": "stdout",
     "output_type": "stream",
     "text": [
      "(1850, 400)\n"
     ]
    },
    {
     "data": {
      "text/markdown": [
       "#### Test Dataset shape"
      ],
      "text/plain": [
       "<IPython.core.display.Markdown object>"
      ]
     },
     "metadata": {},
     "output_type": "display_data"
    },
    {
     "name": "stdout",
     "output_type": "stream",
     "text": [
      "(1234, 400)\n"
     ]
    },
    {
     "data": {
      "text/markdown": [
       "#### Favorable and unfavorable labels"
      ],
      "text/plain": [
       "<IPython.core.display.Markdown object>"
      ]
     },
     "metadata": {},
     "output_type": "display_data"
    },
    {
     "name": "stdout",
     "output_type": "stream",
     "text": [
      "0.0 1.0\n"
     ]
    },
    {
     "data": {
      "text/markdown": [
       "#### Protected attribute names"
      ],
      "text/plain": [
       "<IPython.core.display.Markdown object>"
      ]
     },
     "metadata": {},
     "output_type": "display_data"
    },
    {
     "name": "stdout",
     "output_type": "stream",
     "text": [
      "['sex']\n"
     ]
    },
    {
     "data": {
      "text/markdown": [
       "#### Privileged and unprivileged protected attribute values"
      ],
      "text/plain": [
       "<IPython.core.display.Markdown object>"
      ]
     },
     "metadata": {},
     "output_type": "display_data"
    },
    {
     "name": "stdout",
     "output_type": "stream",
     "text": [
      "[array([1.])] [array([0.])]\n"
     ]
    },
    {
     "data": {
      "text/markdown": [
       "#### Dataset feature names"
      ],
      "text/plain": [
       "<IPython.core.display.Markdown object>"
      ]
     },
     "metadata": {},
     "output_type": "display_data"
    },
    {
     "name": "stdout",
     "output_type": "stream",
     "text": [
      "['sex', 'age', 'juv_fel_count', 'juv_misd_count', 'juv_other_count', 'priors_count', 'age_cat=25 - 45', 'age_cat=Greater than 45', 'age_cat=Less than 25', 'c_charge_degree=F', 'c_charge_degree=M', 'c_charge_desc=Abuse Without Great Harm', 'c_charge_desc=Agg Abuse Elderlly/Disabled Adult', 'c_charge_desc=Agg Assault W/int Com Fel Dome', 'c_charge_desc=Agg Battery Grt/Bod/Harm', 'c_charge_desc=Agg Fleeing and Eluding', 'c_charge_desc=Agg Fleeing/Eluding High Speed', 'c_charge_desc=Aggr Child Abuse-Torture,Punish', 'c_charge_desc=Aggrav Battery w/Deadly Weapon', 'c_charge_desc=Aggrav Child Abuse-Agg Battery', 'c_charge_desc=Aggrav Child Abuse-Causes Harm', 'c_charge_desc=Aggrav Stalking After Injunctn', 'c_charge_desc=Aggravated Assault', 'c_charge_desc=Aggravated Assault W/Dead Weap', 'c_charge_desc=Aggravated Assault W/dead Weap', 'c_charge_desc=Aggravated Assault W/o Firearm', 'c_charge_desc=Aggravated Assault w/Firearm', 'c_charge_desc=Aggravated Battery', 'c_charge_desc=Aggravated Battery (Firearm)', 'c_charge_desc=Aggravated Battery (Firearm/Actual Possession)', 'c_charge_desc=Aggravated Battery / Pregnant', 'c_charge_desc=Aggravated Battery On 65/Older', 'c_charge_desc=Aide/Abet Prostitution Lewdness', 'c_charge_desc=Aiding Escape', 'c_charge_desc=Alcoholic Beverage Violation-FL', 'c_charge_desc=Armed Trafficking in Cannabis', 'c_charge_desc=Arson in the First Degree', 'c_charge_desc=Assault', 'c_charge_desc=Assault Law Enforcement Officer', 'c_charge_desc=Att Burgl Conv Occp', 'c_charge_desc=Att Burgl Struc/Conv Dwel/Occp', 'c_charge_desc=Att Burgl Unoccupied Dwel', 'c_charge_desc=Att Tamper w/Physical Evidence', 'c_charge_desc=Attempt Armed Burglary Dwell', 'c_charge_desc=Attempted Burg/Convey/Unocc', 'c_charge_desc=Attempted Burg/struct/unocc', 'c_charge_desc=Attempted Deliv Control Subst', 'c_charge_desc=Attempted Robbery  No Weapon', 'c_charge_desc=Attempted Robbery  Weapon', 'c_charge_desc=Battery', 'c_charge_desc=Battery Emergency Care Provide', 'c_charge_desc=Battery On A Person Over 65', 'c_charge_desc=Battery On Fire Fighter', 'c_charge_desc=Battery On Parking Enfor Speci', 'c_charge_desc=Battery Spouse Or Girlfriend', 'c_charge_desc=Battery on Law Enforc Officer', 'c_charge_desc=Battery on a Person Over 65', 'c_charge_desc=Bribery Athletic Contests', 'c_charge_desc=Burgl Dwel/Struct/Convey Armed', 'c_charge_desc=Burglary Assault/Battery Armed', 'c_charge_desc=Burglary Conveyance Armed', 'c_charge_desc=Burglary Conveyance Assault/Bat', 'c_charge_desc=Burglary Conveyance Occupied', 'c_charge_desc=Burglary Conveyance Unoccup', 'c_charge_desc=Burglary Dwelling Armed', 'c_charge_desc=Burglary Dwelling Assault/Batt', 'c_charge_desc=Burglary Dwelling Occupied', 'c_charge_desc=Burglary Structure Assault/Batt', 'c_charge_desc=Burglary Structure Occupied', 'c_charge_desc=Burglary Structure Unoccup', 'c_charge_desc=Burglary Unoccupied Dwelling', 'c_charge_desc=Burglary With Assault/battery', 'c_charge_desc=Carjacking w/o Deadly Weapon', 'c_charge_desc=Carjacking with a Firearm', 'c_charge_desc=Carry Open/Uncov Bev In Pub', 'c_charge_desc=Carrying A Concealed Weapon', 'c_charge_desc=Carrying Concealed Firearm', 'c_charge_desc=Cash Item w/Intent to Defraud', 'c_charge_desc=Child Abuse', 'c_charge_desc=Computer Pornography', 'c_charge_desc=Consp Traff Oxycodone  4g><14g', 'c_charge_desc=Conspiracy Dealing Stolen Prop', 'c_charge_desc=Consume Alcoholic Bev Pub', 'c_charge_desc=Contradict Statement', 'c_charge_desc=Contribute Delinquency Of A Minor', 'c_charge_desc=Corrupt Public Servant', 'c_charge_desc=Counterfeit Lic Plates/Sticker', 'c_charge_desc=Crim Attempt/Solic/Consp', 'c_charge_desc=Crim Use of Personal ID Info', 'c_charge_desc=Crimin Mischief Damage $1000+', 'c_charge_desc=Criminal Mischief', 'c_charge_desc=Criminal Mischief Damage <$200', 'c_charge_desc=Criminal Mischief>$200<$1000', 'c_charge_desc=Crlty Twrd Child Urge Oth Act', 'c_charge_desc=Cruelty Toward Child', 'c_charge_desc=Cruelty to Animals', 'c_charge_desc=Culpable Negligence', 'c_charge_desc=D.U.I. Serious Bodily Injury', 'c_charge_desc=DOC/Cause Public Danger', 'c_charge_desc=DUI - Enhanced', 'c_charge_desc=DUI - Property Damage/Personal Injury', 'c_charge_desc=DUI Blood Alcohol Above 0.20', 'c_charge_desc=DUI Level 0.15 Or Minor In Veh', 'c_charge_desc=DUI Property Damage/Injury', 'c_charge_desc=DUI- Enhanced', 'c_charge_desc=DUI/Property Damage/Persnl Inj', 'c_charge_desc=DWI w/Inj Susp Lic / Habit Off', 'c_charge_desc=DWLS Canceled Disqul 1st Off', 'c_charge_desc=DWLS Susp/Cancel Revoked', 'c_charge_desc=Dealing in Stolen Property', 'c_charge_desc=Defrauding Innkeeper', 'c_charge_desc=Defrauding Innkeeper $300/More', 'c_charge_desc=Del 3,4 Methylenedioxymethcath', 'c_charge_desc=Del Cannabis At/Near Park', 'c_charge_desc=Del Cannabis For Consideration', 'c_charge_desc=Del of JWH-250 2-Methox 1-Pentyl', 'c_charge_desc=Deliver 3,4 Methylenediox', 'c_charge_desc=Deliver Alprazolam', 'c_charge_desc=Deliver Cannabis', 'c_charge_desc=Deliver Cannabis 1000FTSch', 'c_charge_desc=Deliver Cocaine', 'c_charge_desc=Deliver Cocaine 1000FT Church', 'c_charge_desc=Deliver Cocaine 1000FT Park', 'c_charge_desc=Deliver Cocaine 1000FT School', 'c_charge_desc=Deliver Cocaine 1000FT Store', 'c_charge_desc=Delivery Of Drug Paraphernalia', 'c_charge_desc=Delivery of 5-Fluoro PB-22', 'c_charge_desc=Delivery of Heroin', 'c_charge_desc=Depriv LEO of Protect/Communic', 'c_charge_desc=Disorderly Conduct', 'c_charge_desc=Disorderly Intoxication', 'c_charge_desc=Disrupting School Function', 'c_charge_desc=Drivg While Lic Suspd/Revk/Can', 'c_charge_desc=Driving License Suspended', 'c_charge_desc=Driving Under The Influence', 'c_charge_desc=Driving While License Revoked', 'c_charge_desc=Escape', 'c_charge_desc=Exhibition Weapon School Prop', 'c_charge_desc=Expired DL More Than 6 Months', 'c_charge_desc=Exposes Culpable Negligence', 'c_charge_desc=Extradition/Defendants', 'c_charge_desc=Fabricating Physical Evidence', 'c_charge_desc=Fail Register Vehicle', 'c_charge_desc=Fail Sex Offend Report Bylaw', 'c_charge_desc=Fail To Obey Police Officer', 'c_charge_desc=Fail To Redeliv Hire/Leas Prop', 'c_charge_desc=Failure To Pay Taxi Cab Charge', 'c_charge_desc=Failure To Return Hired Vehicle', 'c_charge_desc=False 911 Call', 'c_charge_desc=False Bomb Report', 'c_charge_desc=False Imprisonment', 'c_charge_desc=False Info LEO During Invest', 'c_charge_desc=False Motor Veh Insurance Card', 'c_charge_desc=False Name By Person Arrest', 'c_charge_desc=False Ownership Info/Pawn Item', 'c_charge_desc=Falsely Impersonating Officer', 'c_charge_desc=Fel Drive License Perm Revoke', 'c_charge_desc=Felon in Pos of Firearm or Amm', 'c_charge_desc=Felony Batt(Great Bodily Harm)', 'c_charge_desc=Felony Battery', 'c_charge_desc=Felony Battery (Dom Strang)', 'c_charge_desc=Felony Battery w/Prior Convict', 'c_charge_desc=Felony Committing Prostitution', 'c_charge_desc=Felony DUI (level 3)', 'c_charge_desc=Felony DUI - Enhanced', 'c_charge_desc=Felony Driving While Lic Suspd', 'c_charge_desc=Felony Petit Theft', 'c_charge_desc=Felony/Driving Under Influence', 'c_charge_desc=Fighting/Baiting Animals', 'c_charge_desc=Fleeing Or Attmp Eluding A Leo', 'c_charge_desc=Fleeing or Eluding a LEO', 'c_charge_desc=Forging Bank Bills/Promis Note', 'c_charge_desc=Fraudulent Use of Credit Card', 'c_charge_desc=Grand Theft (Motor Vehicle)', 'c_charge_desc=Grand Theft Dwell Property', 'c_charge_desc=Grand Theft Firearm', 'c_charge_desc=Grand Theft in the 1st Degree', 'c_charge_desc=Grand Theft in the 3rd Degree', 'c_charge_desc=Grand Theft of a Fire Extinquisher', 'c_charge_desc=Grand Theft of the 2nd Degree', 'c_charge_desc=Grand Theft on 65 Yr or Older', 'c_charge_desc=Harass Witness/Victm/Informnt', 'c_charge_desc=Harm Public Servant Or Family', 'c_charge_desc=Hiring with Intent to Defraud', 'c_charge_desc=Imperson Public Officer or Emplyee', 'c_charge_desc=Interfere W/Traf Cont Dev RR', 'c_charge_desc=Interference with Custody', 'c_charge_desc=Intoxicated/Safety Of Another', 'c_charge_desc=Introduce Contraband Into Jail', 'c_charge_desc=Issuing a Worthless Draft', 'c_charge_desc=Kidnapping / Domestic Violence', 'c_charge_desc=Lease For Purpose Trafficking', 'c_charge_desc=Leave Acc/Attend Veh/More $50', 'c_charge_desc=Leave Accd/Attend Veh/Less $50', 'c_charge_desc=Leaving Acc/Unattended Veh', 'c_charge_desc=Leaving the Scene of Accident', 'c_charge_desc=Lewd Act Presence Child 16-', 'c_charge_desc=Lewd or Lascivious Molestation', 'c_charge_desc=Lewd/Lasc Battery Pers 12+/<16', 'c_charge_desc=Lewd/Lasc Exhib Presence <16yr', 'c_charge_desc=Lewd/Lasciv Molest Elder Persn', 'c_charge_desc=Lewdness Violation', 'c_charge_desc=License Suspended Revoked', 'c_charge_desc=Littering', 'c_charge_desc=Live on Earnings of Prostitute', 'c_charge_desc=Lve/Scen/Acc/Veh/Prop/Damage', 'c_charge_desc=Manage Busn W/O City Occup Lic', 'c_charge_desc=Manslaughter W/Weapon/Firearm', 'c_charge_desc=Manufacture Cannabis', 'c_charge_desc=Misuse Of 911 Or E911 System', 'c_charge_desc=Money Launder 100K or More Dols', 'c_charge_desc=Murder In 2nd Degree W/firearm', 'c_charge_desc=Murder in the First Degree', 'c_charge_desc=Neglect Child / Bodily Harm', 'c_charge_desc=Neglect Child / No Bodily Harm', 'c_charge_desc=Neglect/Abuse Elderly Person', 'c_charge_desc=Obstruct Fire Equipment', 'c_charge_desc=Obstruct Officer W/Violence', 'c_charge_desc=Obtain Control Substance By Fraud', 'c_charge_desc=Offer Agree Secure For Lewd Act', 'c_charge_desc=Offer Agree Secure/Lewd Act', 'c_charge_desc=Offn Against Intellectual Prop', 'c_charge_desc=Open Carrying Of Weapon', 'c_charge_desc=Oper Motorcycle W/O Valid DL', 'c_charge_desc=Operating W/O Valid License', 'c_charge_desc=Opert With Susp DL 2nd Offens', 'c_charge_desc=PL/Unlaw Use Credit Card', 'c_charge_desc=Petit Theft', 'c_charge_desc=Petit Theft $100- $300', 'c_charge_desc=Pos Cannabis For Consideration', 'c_charge_desc=Pos Cannabis W/Intent Sel/Del', 'c_charge_desc=Pos Methylenedioxymethcath W/I/D/S', 'c_charge_desc=Poss 3,4 MDMA (Ecstasy)', 'c_charge_desc=Poss Alprazolam W/int Sell/Del', 'c_charge_desc=Poss Anti-Shoplifting Device', 'c_charge_desc=Poss Cntrft Contr Sub w/Intent', 'c_charge_desc=Poss Cocaine/Intent To Del/Sel', 'c_charge_desc=Poss Contr Subst W/o Prescript', 'c_charge_desc=Poss Counterfeit Payment Inst', 'c_charge_desc=Poss Drugs W/O A Prescription', 'c_charge_desc=Poss F/Arm Delinq', 'c_charge_desc=Poss Firearm W/Altered ID#', 'c_charge_desc=Poss Meth/Diox/Meth/Amp (MDMA)', 'c_charge_desc=Poss Of 1,4-Butanediol', 'c_charge_desc=Poss Of Controlled Substance', 'c_charge_desc=Poss Of RX Without RX', 'c_charge_desc=Poss Oxycodone W/Int/Sell/Del', 'c_charge_desc=Poss Pyrrolidinobutiophenone', 'c_charge_desc=Poss Pyrrolidinovalerophenone', 'c_charge_desc=Poss Pyrrolidinovalerophenone W/I/D/S', 'c_charge_desc=Poss Similitude of Drivers Lic', 'c_charge_desc=Poss Tetrahydrocannabinols', 'c_charge_desc=Poss Unlaw Issue Driver Licenc', 'c_charge_desc=Poss Unlaw Issue Id', 'c_charge_desc=Poss Wep Conv Felon', 'c_charge_desc=Poss of Cocaine W/I/D/S 1000FT Park', 'c_charge_desc=Poss of Firearm by Convic Felo', 'c_charge_desc=Poss of Methylethcathinone', 'c_charge_desc=Poss/Sell/Del Cocaine 1000FT Sch', 'c_charge_desc=Poss/Sell/Del/Man Amobarbital', 'c_charge_desc=Poss/pur/sell/deliver Cocaine', 'c_charge_desc=Poss3,4 Methylenedioxymethcath', 'c_charge_desc=Posses/Disply Susp/Revk/Frd DL', 'c_charge_desc=Possess Cannabis 1000FTSch', 'c_charge_desc=Possess Cannabis/20 Grams Or Less', 'c_charge_desc=Possess Controlled Substance', 'c_charge_desc=Possess Countrfeit Credit Card', 'c_charge_desc=Possess Drug Paraphernalia', 'c_charge_desc=Possess Mot Veh W/Alt Vin #', 'c_charge_desc=Possess Tobacco Product Under 18', 'c_charge_desc=Possess Weapon On School Prop', 'c_charge_desc=Possess w/I/Utter Forged Bills', 'c_charge_desc=Possession Burglary Tools', 'c_charge_desc=Possession Child Pornography', 'c_charge_desc=Possession Firearm School Prop', 'c_charge_desc=Possession Of 3,4Methylenediox', 'c_charge_desc=Possession Of Alprazolam', 'c_charge_desc=Possession Of Amphetamine', 'c_charge_desc=Possession Of Anabolic Steroid', 'c_charge_desc=Possession Of Buprenorphine', 'c_charge_desc=Possession Of Carisoprodol', 'c_charge_desc=Possession Of Clonazepam', 'c_charge_desc=Possession Of Cocaine', 'c_charge_desc=Possession Of Diazepam', 'c_charge_desc=Possession Of Fentanyl', 'c_charge_desc=Possession Of Heroin', 'c_charge_desc=Possession Of Methamphetamine', 'c_charge_desc=Possession Of Paraphernalia', 'c_charge_desc=Possession Of Phentermine', 'c_charge_desc=Possession of Alcohol Under 21', 'c_charge_desc=Possession of Benzylpiperazine', 'c_charge_desc=Possession of Butylone', 'c_charge_desc=Possession of Cannabis', 'c_charge_desc=Possession of Cocaine', 'c_charge_desc=Possession of Codeine', 'c_charge_desc=Possession of Ethylone', 'c_charge_desc=Possession of Hydrocodone', 'c_charge_desc=Possession of Hydromorphone', 'c_charge_desc=Possession of LSD', 'c_charge_desc=Possession of Methadone', 'c_charge_desc=Possession of Morphine', 'c_charge_desc=Possession of Oxycodone', 'c_charge_desc=Possession of XLR11', 'c_charge_desc=Principal In The First Degree', 'c_charge_desc=Prostitution', 'c_charge_desc=Prostitution/Lewd Act Assignation', 'c_charge_desc=Prostitution/Lewdness/Assign', 'c_charge_desc=Prowling/Loitering', 'c_charge_desc=Purchase Cannabis', 'c_charge_desc=Purchase/P/W/Int Cannabis', 'c_charge_desc=Reckless Driving', 'c_charge_desc=Refuse Submit Blood/Breath Test', 'c_charge_desc=Refuse to Supply DNA Sample', 'c_charge_desc=Resist Officer w/Violence', 'c_charge_desc=Resist/Obstruct W/O Violence', 'c_charge_desc=Retail Theft $300 1st Offense', 'c_charge_desc=Retail Theft $300 2nd Offense', 'c_charge_desc=Ride Tri-Rail Without Paying', 'c_charge_desc=Robbery / No Weapon', 'c_charge_desc=Robbery / Weapon', 'c_charge_desc=Robbery Sudd Snatch No Weapon', 'c_charge_desc=Robbery W/Deadly Weapon', 'c_charge_desc=Robbery W/Firearm', 'c_charge_desc=Sale/Del Cannabis At/Near Scho', 'c_charge_desc=Sale/Del Counterfeit Cont Subs', 'c_charge_desc=Sel/Pur/Mfr/Del Control Substa', 'c_charge_desc=Sell or Offer for Sale Counterfeit Goods', 'c_charge_desc=Sell/Man/Del Pos/w/int Heroin', 'c_charge_desc=Sex Batt Faml/Cust Vict 12-17Y', 'c_charge_desc=Sex Battery Deft 18+/Vict 11-', 'c_charge_desc=Sex Offender Fail Comply W/Law', 'c_charge_desc=Sexual Battery / Vict 12 Yrs +', 'c_charge_desc=Sexual Performance by a Child', 'c_charge_desc=Shoot In Occupied Dwell', 'c_charge_desc=Shoot Into Vehicle', 'c_charge_desc=Simulation of Legal Process', 'c_charge_desc=Solic to Commit Battery', 'c_charge_desc=Solicit Deliver Cocaine', 'c_charge_desc=Solicit Purchase Cocaine', 'c_charge_desc=Solicit To Deliver Cocaine', 'c_charge_desc=Solicitation On Felony 3 Deg', 'c_charge_desc=Soliciting For Prostitution', 'c_charge_desc=Sound Articles Over 100', 'c_charge_desc=Stalking', 'c_charge_desc=Stalking (Aggravated)', 'c_charge_desc=Strong Armed  Robbery', 'c_charge_desc=Structuring Transactions', 'c_charge_desc=Susp Drivers Lic 1st Offense', 'c_charge_desc=Tamper With Victim', 'c_charge_desc=Tamper With Witness', 'c_charge_desc=Tamper With Witness/Victim/CI', 'c_charge_desc=Tampering With Physical Evidence', 'c_charge_desc=Tampering with a Victim', 'c_charge_desc=Theft/To Deprive', 'c_charge_desc=Threat Public Servant', 'c_charge_desc=Throw Deadly Missile Into Veh', 'c_charge_desc=Throw In Occupied Dwell', 'c_charge_desc=Throw Missile Into Pub/Priv Dw', 'c_charge_desc=Traff In Cocaine <400g>150 Kil', 'c_charge_desc=Traffic Counterfeit Cred Cards', 'c_charge_desc=Traffick Amphetamine 28g><200g', 'c_charge_desc=Traffick Oxycodone     4g><14g', 'c_charge_desc=Trans/Harm/Material to a Minor', 'c_charge_desc=Trespass On School Grounds', 'c_charge_desc=Trespass Other Struct/Conve', 'c_charge_desc=Trespass Private Property', 'c_charge_desc=Trespass Property w/Dang Weap', 'c_charge_desc=Trespass Struct/Conveyance', 'c_charge_desc=Trespass Structure w/Dang Weap', 'c_charge_desc=Trespass Structure/Conveyance', 'c_charge_desc=Trespassing/Construction Site', 'c_charge_desc=Tresspass Struct/Conveyance', 'c_charge_desc=Tresspass in Structure or Conveyance', 'c_charge_desc=Unauth C/P/S Sounds>1000/Audio', 'c_charge_desc=Unauth Poss ID Card or DL', 'c_charge_desc=Unauthorized Interf w/Railroad', 'c_charge_desc=Unl/Disturb Education/Instui', 'c_charge_desc=Unlaw Lic Use/Disply Of Others', 'c_charge_desc=Unlaw LicTag/Sticker Attach', 'c_charge_desc=Unlaw Use False Name/Identity', 'c_charge_desc=Unlawful Conveyance of Fuel', 'c_charge_desc=Unlicensed Telemarketing', 'c_charge_desc=Use Computer for Child Exploit', 'c_charge_desc=Use Of 2 Way Device To Fac Fel', 'c_charge_desc=Use Scanning Device to Defraud', 'c_charge_desc=Use of Anti-Shoplifting Device', 'c_charge_desc=Uttering Forged Bills', 'c_charge_desc=Uttering Forged Credit Card', 'c_charge_desc=Uttering Worthless Check +$150', 'c_charge_desc=Uttering a Forged Instrument', 'c_charge_desc=Video Voyeur-<24Y on Child >16', 'c_charge_desc=Viol Injunct Domestic Violence', 'c_charge_desc=Viol Injunction Protect Dom Vi', 'c_charge_desc=Viol Pretrial Release Dom Viol', 'c_charge_desc=Viol Prot Injunc Repeat Viol', 'c_charge_desc=Violation License Restrictions', 'c_charge_desc=Violation Of Boater Safety Id', 'c_charge_desc=Violation of Injunction Order/Stalking/Cyberstalking', 'c_charge_desc=Voyeurism', 'c_charge_desc=arrest case no charge']\n"
     ]
    }
   ],
   "source": [
    "# fuction to describe the feature of the dataset\n",
    "def describe(train=None, val=None, test=None):\n",
    "    if train is not None:\n",
    "        display(Markdown(\"#### Training Dataset shape\"))\n",
    "        print(train.features.shape)\n",
    "    if val is not None:\n",
    "        display(Markdown(\"#### Validation Dataset shape\"))\n",
    "        print(val.features.shape)\n",
    "    display(Markdown(\"#### Test Dataset shape\"))\n",
    "    print(test.features.shape)\n",
    "    display(Markdown(\"#### Favorable and unfavorable labels\"))\n",
    "    print(test.favorable_label, test.unfavorable_label)\n",
    "    display(Markdown(\"#### Protected attribute names\"))\n",
    "    print(test.protected_attribute_names)\n",
    "    display(Markdown(\"#### Privileged and unprivileged protected attribute values\"))\n",
    "    print(test.privileged_protected_attributes, \n",
    "          test.unprivileged_protected_attributes)\n",
    "    display(Markdown(\"#### Dataset feature names\"))\n",
    "    print(test.feature_names)\n",
    "\n",
    "describe(dataset_orig_panel19_train, dataset_orig_panel19_val, dataset_orig_panel19_test)"
   ]
  },
  {
   "cell_type": "code",
   "execution_count": 107,
   "id": "a955b570",
   "metadata": {},
   "outputs": [
    {
     "name": "stdout",
     "output_type": "stream",
     "text": [
      "Disparate impact (probability of favorable outcome for unprivileged instances / probability of favorable outcome for privileged instances): 0.8227534408479164\n"
     ]
    }
   ],
   "source": [
    "# analyse the disparate impact on the train set\n",
    "metric_orig_panel19_train = BinaryLabelDatasetMetric(\n",
    "        dataset_orig_panel19_train,\n",
    "        unprivileged_groups=unprivileged_groups,\n",
    "        privileged_groups=privileged_groups)\n",
    "\n",
    "explainer_orig_panel19_train = MetricTextExplainer(metric_orig_panel19_train)\n",
    "\n",
    "print(explainer_orig_panel19_train.disparate_impact())"
   ]
  },
  {
   "cell_type": "code",
   "execution_count": 108,
   "id": "5ab228de",
   "metadata": {},
   "outputs": [],
   "source": [
    "# set the train dataset\n",
    "dataset = dataset_orig_panel19_train\n",
    "# bulid up the Logistic Regression\n",
    "model = make_pipeline(StandardScaler(),\n",
    "                      LogisticRegression(solver='liblinear', random_state=1))\n",
    "\n",
    "fit_params = {'logisticregression__sample_weight': dataset.instance_weights}\n",
    "# TODO #2 \n",
    "# train the model\n",
    "lr_orig_panel19 = model.fit(dataset.features, dataset.labels.ravel(), **fit_params)"
   ]
  },
  {
   "cell_type": "code",
   "execution_count": 109,
   "id": "4ad5b306",
   "metadata": {},
   "outputs": [],
   "source": [
    "from collections import defaultdict\n",
    "\n",
    "def test(dataset, model, thresh_arr):\n",
    "    try:\n",
    "        # sklearn classifier\n",
    "        # TODO #2\n",
    "        # predict if a defendant is likely to re-offend\n",
    "        y_val_pred_prob = model.predict_proba(dataset.features)\n",
    "        pos_ind = np.where(model.classes_ == dataset.favorable_label)[0][0]\n",
    "    except AttributeError:\n",
    "        # aif360 inprocessing algorithm\n",
    "        y_val_pred_prob = model.predict(dataset).scores\n",
    "        pos_ind = 0\n",
    "    \n",
    "    metric_arrs = defaultdict(list)\n",
    "    y_val_pred = thresh_arr\n",
    "\n",
    "    dataset_pred = dataset.copy()\n",
    "#     dataset_pred.labels = y_val_pred\n",
    "    metric = ClassificationMetric(\n",
    "            dataset, dataset_pred,\n",
    "            unprivileged_groups=unprivileged_groups,\n",
    "            privileged_groups=privileged_groups)\n",
    "\n",
    "    # TODO #3\n",
    "    # for the classifier, calculate the fairness of the classification\n",
    "    metric_arrs['disp_imp'].append(metric.disparate_impact())\n",
    "    metric_arrs['eq_opp_diff'].append(metric.equal_opportunity_difference())\n",
    "    \n",
    "    return metric_arrs"
   ]
  },
  {
   "cell_type": "code",
   "execution_count": 114,
   "id": "69804104",
   "metadata": {},
   "outputs": [
    {
     "data": {
      "text/markdown": [
       "#### Fairness of the classifier"
      ],
      "text/plain": [
       "<IPython.core.display.Markdown object>"
      ]
     },
     "metadata": {},
     "output_type": "display_data"
    },
    {
     "name": "stdout",
     "output_type": "stream",
     "text": [
      "Diparate impact between unprivileged and privileged groups = [0.794094794094794]\n",
      "Equal opportunity difference between unprivileged and privileged groups =  [0.0]\n"
     ]
    }
   ],
   "source": [
    "# set the threshold to 0.5 \n",
    "thresh_arr = 0.5\n",
    "\n",
    "val_metrics = test(dataset=dataset_orig_panel19_val,\n",
    "                   model=lr_orig_panel19,\n",
    "                   thresh_arr=thresh_arr)\n",
    "# lr_orig_best_ind = np.argmax(val_metrics['bal_acc'])\n",
    "display(Markdown(\"#### Fairness of the classifier\"))\n",
    "num1 = val_metrics['disp_imp']\n",
    "num2 = val_metrics['eq_opp_diff']\n",
    "\n",
    "# TODO #3\n",
    "# print the fairness metric\n",
    "print(\"Diparate impact between unprivileged and privileged groups =\", num1)\n",
    "print(\"Equal opportunity difference between unprivileged and privileged groups = \", num2)"
   ]
  },
  {
   "cell_type": "markdown",
   "id": "32122e03",
   "metadata": {},
   "source": [
    "# Exercise 7a"
   ]
  },
  {
   "cell_type": "code",
   "execution_count": 94,
   "id": "b84f8d15",
   "metadata": {},
   "outputs": [],
   "source": [
    "# TODO #4\n",
    "# set up the prepossessing function to remove the disparate impact\n",
    "R = DisparateImpactRemover(repair_level=1.0, sensitive_attribute='')\n",
    "dataset_transf_trainr = R.fit_transform(cd)"
   ]
  },
  {
   "cell_type": "code",
   "execution_count": 95,
   "id": "7049def8",
   "metadata": {},
   "outputs": [
    {
     "data": {
      "text/markdown": [
       "#### Transformed training dataset"
      ],
      "text/plain": [
       "<IPython.core.display.Markdown object>"
      ]
     },
     "metadata": {},
     "output_type": "display_data"
    },
    {
     "name": "stdout",
     "output_type": "stream",
     "text": [
      "Diparate impact between unprivileged and privileged groups = 0.802925\n"
     ]
    }
   ],
   "source": [
    "# calculate the fairness metric on the transformed dataset\n",
    "metric_transf_trainr = BinaryLabelDatasetMetric(dataset_transf_trainr, \n",
    "                                               unprivileged_groups=unprivileged_groups,\n",
    "                                               privileged_groups=privileged_groups)\n",
    "display(Markdown(\"#### Transformed training dataset\"))\n",
    "print(\"Diparate impact between unprivileged and privileged groups = %f\" % metric_transf_trainr.disparate_impact())"
   ]
  },
  {
   "cell_type": "markdown",
   "id": "175fcfd4",
   "metadata": {},
   "source": [
    "# Exercise 7b"
   ]
  },
  {
   "cell_type": "code",
   "execution_count": 84,
   "id": "cd2f4659",
   "metadata": {},
   "outputs": [],
   "source": [
    "# TODO #5\n",
    "# set up the prepossessing function to reweigh\n",
    "RW = Reweighing(unprivileged_groups=unprivileged_groups,\n",
    "                privileged_groups=privileged_groups)\n",
    "dataset_transf_train = RW.fit_transform(cd)"
   ]
  },
  {
   "cell_type": "code",
   "execution_count": 89,
   "id": "9deef7d7",
   "metadata": {},
   "outputs": [
    {
     "data": {
      "text/markdown": [
       "#### Transformed training dataset"
      ],
      "text/plain": [
       "<IPython.core.display.Markdown object>"
      ]
     },
     "metadata": {},
     "output_type": "display_data"
    },
    {
     "name": "stdout",
     "output_type": "stream",
     "text": [
      "Diparate impact between unprivileged and privileged groups = 1.000000\n"
     ]
    }
   ],
   "source": [
    "# calculate the fairness metric on the transformed dataset\n",
    "metric_transf_train = BinaryLabelDatasetMetric(dataset_transf_train, \n",
    "                                               unprivileged_groups=unprivileged_groups,\n",
    "                                               privileged_groups=privileged_groups)\n",
    "display(Markdown(\"#### Transformed training dataset\"))\n",
    "print(\"Diparate impact between unprivileged and privileged groups = %f\" % metric_transf_train.disparate_impact())"
   ]
  },
  {
   "cell_type": "markdown",
   "id": "dd60c75e",
   "metadata": {},
   "source": [
    "# Exercise 8"
   ]
  },
  {
   "cell_type": "code",
   "execution_count": 97,
   "id": "66cd0363",
   "metadata": {},
   "outputs": [],
   "source": [
    "# the dataset_transf_train is generated from 7b, I use the transformed data from 7b\n",
    "# split train set and test set\n",
    "(train, val, test) = dataset_transf_train.split([0.5, 0.8], shuffle=True)\n",
    "\n",
    "sens_ind = 0\n",
    "sens_attr = train.protected_attribute_names[sens_ind]\n",
    "\n",
    "unprivileged_groups = [{sens_attr: v} for v in\n",
    "                       train.unprivileged_protected_attributes[sens_ind]]\n",
    "privileged_groups = [{sens_attr: v} for v in\n",
    "                     train.privileged_protected_attributes[sens_ind]]"
   ]
  },
  {
   "cell_type": "code",
   "execution_count": 99,
   "id": "f7347689",
   "metadata": {},
   "outputs": [
    {
     "name": "stdout",
     "output_type": "stream",
     "text": [
      "Disparate impact (probability of favorable outcome for unprivileged instances / probability of favorable outcome for privileged instances): 1.011948759577447\n"
     ]
    }
   ],
   "source": [
    "# calculate the original fairness metric on the original data\n",
    "metric_train = BinaryLabelDatasetMetric(\n",
    "        train,\n",
    "        unprivileged_groups=unprivileged_groups,\n",
    "        privileged_groups=privileged_groups)\n",
    "\n",
    "explainer_train = MetricTextExplainer(metric_train)\n",
    "\n",
    "print(explainer_train.disparate_impact())"
   ]
  },
  {
   "cell_type": "code",
   "execution_count": 116,
   "id": "74704127",
   "metadata": {},
   "outputs": [
    {
     "data": {
      "text/markdown": [
       "#### Fairness metric of classifier on transformed dataset"
      ],
      "text/plain": [
       "<IPython.core.display.Markdown object>"
      ]
     },
     "metadata": {},
     "output_type": "display_data"
    },
    {
     "name": "stdout",
     "output_type": "stream",
     "text": [
      "Diparate impact between unprivileged and privileged groups = [0.9277138415567062]\n",
      "Equal opportunity difference between unprivileged and privileged groups =  [0.0]\n"
     ]
    }
   ],
   "source": [
    "# TODO #6\n",
    "# the model lr_orig_panel19 is generated from above\n",
    "thresh_arr = 0.5\n",
    "val_metrics = test(dataset=val,\n",
    "                   model=lr_orig_panel19,\n",
    "                   thresh_arr=thresh_arr)\n",
    "\n",
    "display(Markdown(\"#### Fairness metric of classifier on transformed dataset\"))\n",
    "num1 = val_metrics['disp_imp']\n",
    "num2 = val_metrics['eq_opp_diff']\n",
    "print(\"Diparate impact between unprivileged and privileged groups =\", num1)\n",
    "print(\"Equal opportunity difference between unprivileged and privileged groups = \", num2)"
   ]
  }
 ],
 "metadata": {
  "kernelspec": {
   "display_name": "Python 3 (ipykernel)",
   "language": "python",
   "name": "python3"
  },
  "language_info": {
   "codemirror_mode": {
    "name": "ipython",
    "version": 3
   },
   "file_extension": ".py",
   "mimetype": "text/x-python",
   "name": "python",
   "nbconvert_exporter": "python",
   "pygments_lexer": "ipython3",
   "version": "3.9.8"
  }
 },
 "nbformat": 4,
 "nbformat_minor": 5
}
